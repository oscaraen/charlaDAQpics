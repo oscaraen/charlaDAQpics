{
  "nbformat": 4,
  "nbformat_minor": 0,
  "metadata": {
    "colab": {
      "name": "AcondicionamientoYAdquisicionCharla.ipynb",
      "provenance": [],
      "authorship_tag": "ABX9TyOBn1UlFAsQvBzxaZ1Gp8yY",
      "include_colab_link": true
    },
    "kernelspec": {
      "name": "python3",
      "display_name": "Python 3"
    }
  },
  "cells": [
    {
      "cell_type": "markdown",
      "metadata": {
        "id": "view-in-github",
        "colab_type": "text"
      },
      "source": [
        "<a href=\"https://colab.research.google.com/github/oscaraen/charlaDAQpics/blob/master/AcondicionamientoYAdquisicionCharla.ipynb\" target=\"_parent\"><img src=\"https://colab.research.google.com/assets/colab-badge.svg\" alt=\"Open In Colab\"/></a>"
      ]
    },
    {
      "cell_type": "markdown",
      "metadata": {
        "id": "qWGpzqVLT-H3",
        "colab_type": "text"
      },
      "source": [
        "# Análisis del acondicionamiento\n",
        "\n",
        "## 1 Sensor y rango de operación\n",
        "\n",
        "Se utilizará un sensor resistivo de platino para la temperatura (PT100) y se estimará su respuesta considerando que el comportamiento del sensor se puede modelar como \n",
        "$$R_0 = 100(1+\\alpha T)$$\n",
        "\n",
        "Cuyo valor de $\\alpha = 0.0039$\n",
        "\n",
        "Se debe estimar un rango de operación para el acondicionamiento, en este caso, vamos a obtener la respuesta desde [0 - 150]°C\n",
        "\n",
        "El primer paso es conocer  la resistencia del sensor en cada valor del intervalo."
      ]
    },
    {
      "cell_type": "code",
      "metadata": {
        "id": "YCYwPqr7T2m0",
        "colab_type": "code",
        "outputId": "5a0836af-b392-4468-b78f-d869ecc87e01",
        "colab": {
          "base_uri": "https://localhost:8080/",
          "height": 36
        }
      },
      "source": [
        "# estimación de la resistencia\n",
        "r0 = 100 # resistencia a 0°c , viene dada por los parámetros del sensor\n",
        "alpha = 0.0039\n",
        "Temp = 150.0\n",
        "\n",
        "Rsens = lambda T: r0 * (1+alpha * T)\n",
        "print(\"la resistencia a %s°C es %.5f ohms\"%(Temp, Rsens(150)))"
      ],
      "execution_count": 1,
      "outputs": [
        {
          "output_type": "stream",
          "text": [
            "la resistencia a 150.0°C es 158.50000 ohms\n"
          ],
          "name": "stdout"
        }
      ]
    },
    {
      "cell_type": "markdown",
      "metadata": {
        "id": "u2ygs2QUVEOq",
        "colab_type": "text"
      },
      "source": [
        "## 2 Convertir el parámetro resistivo Voltaje\n",
        "\n",
        "La resistencia es difícil de medir, por tal motivo interesa convertir la variación resistiva en una variación de voltaje que es más facil de manipular eléctricamente para estimar la temperatura. Utilizamos un puente de medidas.\n",
        "\n",
        "Conviene que el voltaje de salida sea $0V$ cuando la temperatura es de $0°C$\n",
        " <img src=https://upload.wikimedia.org/wikipedia/commons/5/5b/Wheatstone_bridge.jpg> </img>\n",
        "\n",
        "Utilizaremos un voltaje de exitación, de $15V$ y establecemos las resistencias $R1=R2=R4 = 100 \\Omega$, en el puente de medidas $R_3$ es el sensor de temperatura y $V_o$ el voltaje proporcional a la variación en la resistencia.\n",
        "\n",
        "El voltaje de salida es de naturaleza diferencial, es decir, es la diferencia entre dos puntos de tensión diferentes a la tierra del circuito (que se asume está en el negativo de la fuente de tensión).\n",
        "\n",
        "Para analizar el voltaje de salida, se pueden considerar dos divisores de tensión y plantear el voltaje de salida así:\n",
        "\n",
        "\\begin{equation}\n",
        "v_o = v_{ex} \\left[ \\frac{R_{sens}}{R_{sens}+R_4} - \\frac{R_{2}}{R_{2}+R_1}  \\right]\n",
        "\\end{equation}\n",
        "\n",
        "Asignando valores numéricos:\n",
        "\n",
        "\\begin{equation}\n",
        "v_o = 15V \\left[ \\frac{R_{sens}}{R_{sens}+100\\Omega} - \\frac{100\\Omega}{100\\Omega+100\\Omega}  \\right]\n",
        "\\end{equation}\n",
        "\n",
        "\n",
        "Apreciamos que, al aparecer dos veces el término $R_{sens}$ el puente agrega una pequeña no linealidad, que puede ser arreglada incrementando el valor de las resistencias, o puede ser calculada en el microcontrolador con la ecuación completa del puente de medidas para la estimación adecuada del valor de temperatura,\n",
        "\n",
        "Por último, reemplazamos $R_{sens}$ con los valores límite, es decir $100\\Omega$ y $158.5\\Omega$, obteniendo el valor máximo y mínimo de tensión de salida\n",
        "\n"
      ]
    },
    {
      "cell_type": "code",
      "metadata": {
        "id": "8uQMTI7sVCEr",
        "colab_type": "code",
        "outputId": "384f6d9f-2222-460e-cca8-fa4796ad751a",
        "colab": {
          "base_uri": "https://localhost:8080/",
          "height": 54
        }
      },
      "source": [
        "\n",
        "salidaPuente = lambda r_sens : (15 * ( r_sens / (r_sens + 100) - 0.5  ))\n",
        "vo_min = salidaPuente(Rsens(0))\n",
        "vo_max = salidaPuente(Rsens(150))\n",
        "\n",
        "print(\"el rango de salida de tensión es: [%.2f - %.4f]V\"%(vo_min, vo_max))\n",
        "\n",
        "\n",
        "print(\"test 145 grados: \", salidaPuente(Rsens(145)) )\n"
      ],
      "execution_count": 3,
      "outputs": [
        {
          "output_type": "stream",
          "text": [
            "el rango de salida de tensión es: [0.00 - 1.6973]V\n",
            "test 145 grados:  1.653186513350224\n"
          ],
          "name": "stdout"
        }
      ]
    },
    {
      "cell_type": "markdown",
      "metadata": {
        "id": "Uw9BSsTPYst0",
        "colab_type": "text"
      },
      "source": [
        "## 3 Acondicionando de tensión al rango que el microcontrolador admite\n",
        "\n",
        "El microcontrolador que se utilizará en el ejemplo (PIC16f886) solamente permite entradas análogas en el rango de [0 - 5]V. Como se vió en el cálculo anterior, toda la variación quedó concentrada de 0V hasta 1.697V, lo cual hace indetectables pequeños cambios en la temperatura.\n",
        "\n",
        "Es decir, la sensibilidad del puente está dada por: \n",
        "\n",
        "$$ M = \\frac{1.69729V}{ 150°C} $$\n",
        "\n",
        "$$M = 11.1315m V / °C $$\n",
        "\n",
        "Si analizamos la sensibilidad del convertidor análogo a digital, que es de 10 bits en este caso, el mínimo voltaje detectable para el rango de 0 a 5 V es:\n",
        "\n",
        "$$ v_{dmin} = \\frac{5}{2^{10}} = \\frac{5}{1024} = 4.8828mV $$\n",
        "\n",
        "Para adecuar correctamente la señal y aprovechar la resolución del dispositivo de adquisición, se necesita una ganancia a la señal de salida, dada por:\n",
        "\n",
        "$$G = \\frac{5}{1.69729} = 2.94587$$\n",
        "\n",
        "En caso de que no coincidiera el valor 0V de salida con los 0V de entrada del microcontrolador, se debe plantear una línea recta que permita mapear el rango de salida del puente al rango de entrada de tensión del convertidor análogo a digital.\n",
        "\n",
        "\n",
        "\n",
        "\n",
        "\n",
        "\n",
        "\n"
      ]
    },
    {
      "cell_type": "code",
      "metadata": {
        "id": "pZqnCboZYjVa",
        "colab_type": "code",
        "outputId": "be77fa7d-0363-4327-9c28-86f8d065ae62",
        "colab": {
          "base_uri": "https://localhost:8080/",
          "height": 36
        }
      },
      "source": [
        "# probando que el análisis sea correcto\n",
        "\n",
        "acondicionamiento = lambda x: x * 2.94587\n",
        "\n",
        "Vdaqmin = acondicionamiento(salidaPuente(Rsens(0))) #evaluendo el mínimo, temperatura 0\n",
        "Vdaqmax = acondicionamiento(salidaPuente(Rsens(150))) #evaluendo el maximo, temperatura 150\n",
        "\n",
        "print(\"la entrada del microcontrolador será: [%s - %.2f]V\"%(Vdaqmin, Vdaqmax))\n",
        "\n"
      ],
      "execution_count": 4,
      "outputs": [
        {
          "output_type": "stream",
          "text": [
            "la entrada del microcontrolador será: [0.0 - 5.00]V\n"
          ],
          "name": "stdout"
        }
      ]
    },
    {
      "cell_type": "markdown",
      "metadata": {
        "id": "QWZrWPe4qGgs",
        "colab_type": "text"
      },
      "source": [
        "## 4 Función inversa \n",
        "\n",
        "En el microcontrolador, es necesario deshacer los pasos y las ecuaciones involucradas en el acondicionamiento de señal, esto es, la función inversa del sensor, la función inversa del puente de medidas y la función inversa del acondicionamiento, veamos:\n",
        "\n",
        "El voltaje en el microcontrolador está dado por:\n",
        "\n",
        "$$V_{daq} = G\\times V_{o_{puente}}$$\n",
        "\n",
        "El voltaje del puente de medidas es: \n",
        "\n",
        "\\begin{equation}\n",
        "v_o = v_{ex} \\left[ \\frac{R_{sens}}{R_{sens}+R_4} - \\frac{R_{2}}{R_{2}+R_1}  \\right]\n",
        "\\end{equation}\n",
        "\n",
        "La resistencia está dada por: \n",
        "$$R_0 = 100(1+\\alpha T)$$\n",
        "\n",
        "\n",
        "Para encontrar $T=F(V_{daq})$ que es la función a programar tenemos que:\n",
        "\n",
        "1. del acondicionamiento y la cuantización se tiene que:\n",
        "\n",
        "\n",
        "$$V_{puente} = V_{daq} / G$$\n",
        "\n",
        "2. Del Puente de medidas, reemplazando \n",
        "\n",
        "$$R_{sens} = 100 \\frac{V_{puente}+7.5}{7.5-V_{puente}}$$\n",
        "\n",
        "3. del sensor se tiene que:\n",
        "\n",
        "$$T = \\frac{R_{sens}-100}{0.39}$$\n",
        "\n",
        "\n",
        "Como ultima medida se aplica la inversa de la cuantización en el ADC que es:\n",
        "\n",
        "$$Reg = V_{daq} * \\frac{1024}{5}$$\n",
        "\n",
        "\n",
        "\n",
        "Luego, se implementa el circuito utilizando el simulador. En este caso, hay que tener en cuenta los componentes que se escogen ya que existen parámetros como desviaciones y resistencia de hilos, en el caso del sensor PT100 y las no linealidades que también se pueden simular para su posterior acondicionamiento.\n",
        "\n",
        "Si se quiere una mayor precisión, teniendo en cuenta estos aspectos, el puente de medidas debe implementarse con resistencias de precisión (menores al 1%) como es el caso de los resistores que fabrica Vishay que tienen precisión de 0.01%\n",
        "\n",
        "En el caso del sensor, pueden utilizarse modelos para ampliar el rango y reducir el error. Se puede reemplazar el modelo lineal (que es una aproximación) por el modelo de Kallendar Van-Dussen que es un polinomio de tercer grado y ya está demostrada su solución en función de la temperatura T.\n",
        "\n",
        "Como último aspecto práctico, pueden haber pequeñas variaciónes de parámetros en el dispositivo físico, con lo cual es conveniente realizar un proceso de calibración estática. Este se lleva a cabo tomando múltiples medidas y entcontrando los parámetros resistivos del modelo. Así se garantiza que el error es mínimo y que la medida es de alta precisión.\n",
        "\n",
        "Si se quiere aproximar el error se puede estimar como la raíz cuadrada del error en cada paso (error medio cuadrático)\n"
      ]
    },
    {
      "cell_type": "code",
      "metadata": {
        "id": "Biak9eKef7hc",
        "colab_type": "code",
        "colab": {}
      },
      "source": [
        "finvPuente = lambda x: 100 * (x+7.5) / (-x + 7.5) # inversa del puente de medidas"
      ],
      "execution_count": 0,
      "outputs": []
    },
    {
      "cell_type": "code",
      "metadata": {
        "id": "3ieLDiOkhKhc",
        "colab_type": "code",
        "outputId": "f88cd418-388f-4954-e313-e734c5b5caf8",
        "colab": {
          "base_uri": "https://localhost:8080/",
          "height": 36
        }
      },
      "source": [
        "finvPuente(1.69729) # evaluando la inversa del voltaje máximo en el puente de salidas, para encontrar el valor de Rsens"
      ],
      "execution_count": 11,
      "outputs": [
        {
          "output_type": "execute_result",
          "data": {
            "text/plain": [
              "158.49990780169955"
            ]
          },
          "metadata": {
            "tags": []
          },
          "execution_count": 11
        }
      ]
    },
    {
      "cell_type": "code",
      "metadata": {
        "id": "ZEJ_6BgxtmRi",
        "colab_type": "code",
        "outputId": "498002ab-2a31-4e73-807f-d969a961d960",
        "colab": {
          "base_uri": "https://localhost:8080/",
          "height": 36
        }
      },
      "source": [
        "# Falta realizar la inversa del acondicionamiento y hallar la temperatura, ya que tenemos la resistencia\n",
        "\n",
        "def TemperaturaRes(res):\n",
        "    return (res-100)/0.39\n",
        "\n",
        "print(\"la temp es: \", TemperaturaRes(finvPuente(1.69729))) # Econtramos para el voltaje de salida del puente, el valor de temperatura\n"
      ],
      "execution_count": 13,
      "outputs": [
        {
          "output_type": "stream",
          "text": [
            "la temp es:  149.9997635941014\n"
          ],
          "name": "stdout"
        }
      ]
    },
    {
      "cell_type": "markdown",
      "metadata": {
        "id": "7c4aaddWcrWv",
        "colab_type": "text"
      },
      "source": [
        ""
      ]
    },
    {
      "cell_type": "code",
      "metadata": {
        "id": "cu-3zpyFoSF1",
        "colab_type": "code",
        "colab": {}
      },
      "source": [
        ""
      ],
      "execution_count": 0,
      "outputs": []
    }
  ]
}